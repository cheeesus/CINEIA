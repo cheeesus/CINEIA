{
 "cells": [
  {
   "cell_type": "code",
   "execution_count": 1,
   "metadata": {},
   "outputs": [],
   "source": [
    "# recommender_api.py\n",
    "from fastapi import FastAPI\n",
    "import pandas as pd"
   ]
  },
  {
   "cell_type": "code",
   "execution_count": null,
   "metadata": {},
   "outputs": [],
   "source": [
    "\n",
    "app = FastAPI()\n",
    "\n",
    "# Load your trending movies DataFrame (replace with your actual loading)\n",
    "trending_movies = pd.read_csv('trending_movies.csv')  # Or load from your model\n",
    "\n",
    "@app.get('/api/trending_movies')\n",
    "def get_trending_movies():\n",
    "    # Convert DataFrame to JSON\n",
    "    movies_json = trending_movies.to_dict(orient='records')\n",
    "    return movies_json\n"
   ]
  },
  {
   "cell_type": "code",
   "execution_count": 4,
   "metadata": {},
   "outputs": [],
   "source": [
    "from fastapi import FastAPI\n",
    "import pandas as pd\n",
    "import os\n",
    "\n",
    "def load_trending_movies_from_csv(filename='C:\\\\Users\\\\PC-Service\\\\Desktop\\\\projet_synthese\\\\CINEIA\\\\recommender_system\\\\data\\\\database_data\\\\trending_movies.csv'):\n",
    "    try:\n",
    "        trending_movies = pd.read_csv(filename)\n",
    "        return trending_movies\n",
    "    except FileNotFoundError:\n",
    "        print(f\"File not found: {filename}\")\n",
    "        return None\n",
    "    except Exception as e:\n",
    "        print(f\"Error loading trending movies from {filename}: {e}\")\n",
    "        return None\n",
    "\n",
    "@app.get('/api/trending_movies')\n",
    "def get_trending_movies():\n",
    "    trending_movies = load_trending_movies_from_csv()\n",
    "    if trending_movies is not None:\n",
    "        movies_json = trending_movies.to_dict(orient='records')\n",
    "        return movies_json\n",
    "    else:\n",
    "        return {\"error\": \"Trending movies data not available\"}"
   ]
  },
  {
   "cell_type": "code",
   "execution_count": 5,
   "metadata": {},
   "outputs": [
    {
     "name": "stdout",
     "output_type": "stream",
     "text": [
      "Trending movies loaded from CSV:\n",
      "      id  is_adult     budget original_language                        title  \\\n",
      "0    278     False   25000000                en     The Shawshank Redemption   \n",
      "1    238     False    6000000                en                The Godfather   \n",
      "2  19404     False   13200000                hi  Dilwale Dulhania Le Jayenge   \n",
      "3    155     False  185000000                en              The Dark Knight   \n",
      "4    550     False   63000000                en                   Fight Club   \n",
      "\n",
      "                                            overview  popularity  \\\n",
      "0  Framed in the 1940s for the double murder of h...   51.645403   \n",
      "1  Spanning the years 1945 to 1955, a chronicle o...   41.109264   \n",
      "2  Raj is a rich, carefree, happy-go-lucky second...   34.457024   \n",
      "3  Batman raises the stakes in his war on crime. ...  123.167259   \n",
      "4  A ticking-time-bomb insomniac and a slippery s...   63.869599   \n",
      "\n",
      "                        poster_path release_date     revenue  runtime  \\\n",
      "0  /9O7gLzmreU0nGkIB6K3BsJbzvNv.jpg   1994-09-23    28341469      142   \n",
      "1  /rPdtLWNsZmAtoZl9PK7S2wE3qiS.jpg   1972-03-14   245066411      175   \n",
      "2  /2gvbZMtV1Zsl7FedJa5ysbpBx2G.jpg   1995-10-20   100000000      190   \n",
      "3  /1hRoyzDtpgMU7Dz4JF22RANzQO7.jpg   2008-07-16  1004558444      152   \n",
      "4  /adw6Lq9FiC9zjYEpOqfq03ituwp.jpg   1999-10-15   100853753      139   \n",
      "\n",
      "   vote_average  vote_count     score  \n",
      "0           8.5        8358  8.445888  \n",
      "1           8.5        6024  8.425464  \n",
      "2           9.1         661  8.421646  \n",
      "3           8.3       12269  8.265490  \n",
      "4           8.3        9678  8.256401  \n"
     ]
    }
   ],
   "source": [
    "trending_movies_loaded = load_trending_movies_from_csv()\n",
    "if trending_movies_loaded is not None:\n",
    "    print(\"Trending movies loaded from CSV:\")\n",
    "    print(trending_movies_loaded.head())"
   ]
  },
  {
   "cell_type": "code",
   "execution_count": 7,
   "metadata": {},
   "outputs": [],
   "source": [
    "app = FastAPI()  # Initialize the FastAPI app\n",
    "\n",
    "DATA_DIR = 'data/database_data'  # Use relative path and consistent directory\n",
    "\n",
    "def load_trending_movies_from_csv(filename='trending_movies.csv'):\n",
    "    filepath = os.path.join(DATA_DIR, filename)\n",
    "    print(f\"Attempting to load file from: {filepath}\") # Added print statement\n",
    "    try:\n",
    "        trending_movies = pd.read_csv(filepath)\n",
    "        return trending_movies\n",
    "    except FileNotFoundError:\n",
    "        print(f\"File not found: {filepath}\")\n",
    "        return None\n",
    "    except Exception as e:\n",
    "        print(f\"Error loading trending movies from {filepath}: {e}\")\n",
    "        return None\n",
    "\n",
    "@app.get('/api/trending_movies')\n",
    "def get_trending_movies():\n",
    "    trending_movies = load_trending_movies_from_csv()\n",
    "    if trending_movies is not None:\n",
    "        movies_json = trending_movies.to_dict(orient='records')\n",
    "        return movies_json\n",
    "    else:\n",
    "        return {\"error\": \"Trending movies data not available\"}"
   ]
  },
  {
   "cell_type": "code",
   "execution_count": null,
   "metadata": {},
   "outputs": [
    {
     "name": "stdout",
     "output_type": "stream",
     "text": [
      "File does not exist: data\\database_data\\trending_movies.csv\n"
     ]
    }
   ],
   "source": [
    "dirname = os.path.dirname(os.path.abspath(__file__))\n",
    "filename = os.path.join(dirname, 'data/database_data/trending_movies.csv')\n",
    "\n",
    "filepath = \"data\\\\database_data\\\\trending_movies.csv\" # Replace with your filepath.\n",
    "if os.path.exists(filepath):\n",
    "    print(f\"File exists: {filepath}\")\n",
    "else:\n",
    "    print(f\"File does not exist: {filepath}\")"
   ]
  }
 ],
 "metadata": {
  "kernelspec": {
   "display_name": "projetsynthese_env",
   "language": "python",
   "name": "python3"
  },
  "language_info": {
   "codemirror_mode": {
    "name": "ipython",
    "version": 3
   },
   "file_extension": ".py",
   "mimetype": "text/x-python",
   "name": "python",
   "nbconvert_exporter": "python",
   "pygments_lexer": "ipython3",
   "version": "3.11.11"
  }
 },
 "nbformat": 4,
 "nbformat_minor": 2
}
