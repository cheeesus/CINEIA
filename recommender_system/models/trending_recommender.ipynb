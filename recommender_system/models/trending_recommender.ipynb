{
 "cells": [
  {
   "cell_type": "code",
   "execution_count": 16,
   "metadata": {},
   "outputs": [],
   "source": [
    "import pandas as pd\n",
    "import os\n",
    "DATA_DIR = 'data'\n"
   ]
  },
  {
   "cell_type": "code",
   "execution_count": 6,
   "metadata": {},
   "outputs": [],
   "source": [
    "\n",
    "movies_df = pd.read_csv('C:\\\\Users\\\\PC-Service\\\\Desktop\\\\projet_synthese\\\\CINEIA\\\\recommender_system\\\\data\\\\database_data\\\\movies.csv')\n",
    "genres_df = pd.read_csv('C:\\\\Users\\\\PC-Service\\\\Desktop\\\\projet_synthese\\\\CINEIA\\\\recommender_system\\\\data\\\\database_data\\\\genres.csv')\n",
    "keywords_df = pd.read_csv('C:\\\\Users\\\\PC-Service\\\\Desktop\\\\projet_synthese\\\\CINEIA\\\\recommender_system\\\\data\\\\database_data\\\\keywords.csv')\n",
    "movies_genre_df = pd.read_csv('C:\\\\Users\\\\PC-Service\\\\Desktop\\\\projet_synthese\\\\CINEIA\\\\recommender_system\\\\data\\\\database_data\\\\movies_genre.csv')\n",
    "movies_keyword_df = pd.read_csv('C:\\\\Users\\\\PC-Service\\\\Desktop\\\\projet_synthese\\\\CINEIA\\\\recommender_system\\\\data\\\\database_data\\\\movies_keyword.csv')\n"
   ]
  },
  {
   "cell_type": "code",
   "execution_count": 7,
   "metadata": {},
   "outputs": [
    {
     "data": {
      "text/plain": [
       "5.6191969306079255"
      ]
     },
     "execution_count": 7,
     "metadata": {},
     "output_type": "execute_result"
    }
   ],
   "source": [
    "C= movies_df['vote_average'].mean()\n",
    "C"
   ]
  },
  {
   "cell_type": "code",
   "execution_count": 8,
   "metadata": {},
   "outputs": [
    {
     "data": {
      "text/plain": [
       "160.0"
      ]
     },
     "execution_count": 8,
     "metadata": {},
     "output_type": "execute_result"
    }
   ],
   "source": [
    "m= movies_df['vote_count'].quantile(0.9)\n",
    "m"
   ]
  },
  {
   "cell_type": "markdown",
   "metadata": {},
   "source": [
    "filter out the movies that qualify for the chart"
   ]
  },
  {
   "cell_type": "code",
   "execution_count": 9,
   "metadata": {},
   "outputs": [
    {
     "data": {
      "text/plain": [
       "(4548, 13)"
      ]
     },
     "execution_count": 9,
     "metadata": {},
     "output_type": "execute_result"
    }
   ],
   "source": [
    "q_movies = movies_df.copy().loc[movies_df['vote_count'] >= m]\n",
    "q_movies.shape"
   ]
  },
  {
   "cell_type": "markdown",
   "metadata": {},
   "source": [
    "calculate our metric for each qualified movie. To do this, we will define a function, weighted_rating() and define a new feature score, of which we'll calculate the value by applying this function to our DataFrame of qualified movies:"
   ]
  },
  {
   "cell_type": "code",
   "execution_count": 10,
   "metadata": {},
   "outputs": [],
   "source": [
    "\n",
    "\n",
    "def weighted_rating(x, m, C):\n",
    "    \"\"\"\n",
    "    Calculates the weighted rating for a movie using the IMDB formula.\n",
    "\n",
    "    Args:\n",
    "        x (pd.Series): A row of the movies DataFrame.\n",
    "        m (int): Minimum votes required to be listed.\n",
    "        C (float): Mean vote across the whole report.\n",
    "\n",
    "    Returns:\n",
    "        float: The weighted rating.\n",
    "    \"\"\"\n",
    "    v = x['vote_count']\n",
    "    R = x['vote_average']\n",
    "    return (v / (v + m) * R) + (m / (m + v) * C)"
   ]
  },
  {
   "cell_type": "code",
   "execution_count": 11,
   "metadata": {},
   "outputs": [],
   "source": [
    "# Define a new feature 'score' and calculate its value with `weighted_rating()`\n",
    "q_movies['score'] = q_movies.apply(lambda x: weighted_rating(x, m, C), axis=1)"
   ]
  },
  {
   "cell_type": "markdown",
   "metadata": {},
   "source": [
    "sort the DataFrame based on the score feature and output the title, vote count, vote average and weighted rating or score of the top 10 movies"
   ]
  },
  {
   "cell_type": "code",
   "execution_count": 12,
   "metadata": {},
   "outputs": [
    {
     "data": {
      "text/html": [
       "<div>\n",
       "<style scoped>\n",
       "    .dataframe tbody tr th:only-of-type {\n",
       "        vertical-align: middle;\n",
       "    }\n",
       "\n",
       "    .dataframe tbody tr th {\n",
       "        vertical-align: top;\n",
       "    }\n",
       "\n",
       "    .dataframe thead th {\n",
       "        text-align: right;\n",
       "    }\n",
       "</style>\n",
       "<table border=\"1\" class=\"dataframe\">\n",
       "  <thead>\n",
       "    <tr style=\"text-align: right;\">\n",
       "      <th></th>\n",
       "      <th>title</th>\n",
       "      <th>vote_count</th>\n",
       "      <th>vote_average</th>\n",
       "      <th>score</th>\n",
       "    </tr>\n",
       "  </thead>\n",
       "  <tbody>\n",
       "    <tr>\n",
       "      <th>321</th>\n",
       "      <td>The Shawshank Redemption</td>\n",
       "      <td>8358</td>\n",
       "      <td>8.5</td>\n",
       "      <td>8.445888</td>\n",
       "    </tr>\n",
       "    <tr>\n",
       "      <th>855</th>\n",
       "      <td>The Godfather</td>\n",
       "      <td>6024</td>\n",
       "      <td>8.5</td>\n",
       "      <td>8.425464</td>\n",
       "    </tr>\n",
       "    <tr>\n",
       "      <th>10332</th>\n",
       "      <td>Dilwale Dulhania Le Jayenge</td>\n",
       "      <td>661</td>\n",
       "      <td>9.1</td>\n",
       "      <td>8.421646</td>\n",
       "    </tr>\n",
       "    <tr>\n",
       "      <th>12499</th>\n",
       "      <td>The Dark Knight</td>\n",
       "      <td>12269</td>\n",
       "      <td>8.3</td>\n",
       "      <td>8.265490</td>\n",
       "    </tr>\n",
       "    <tr>\n",
       "      <th>2879</th>\n",
       "      <td>Fight Club</td>\n",
       "      <td>9678</td>\n",
       "      <td>8.3</td>\n",
       "      <td>8.256401</td>\n",
       "    </tr>\n",
       "    <tr>\n",
       "      <th>300</th>\n",
       "      <td>Pulp Fiction</td>\n",
       "      <td>8670</td>\n",
       "      <td>8.3</td>\n",
       "      <td>8.251424</td>\n",
       "    </tr>\n",
       "    <tr>\n",
       "      <th>536</th>\n",
       "      <td>Schindler's List</td>\n",
       "      <td>4436</td>\n",
       "      <td>8.3</td>\n",
       "      <td>8.206674</td>\n",
       "    </tr>\n",
       "    <tr>\n",
       "      <th>23675</th>\n",
       "      <td>Whiplash</td>\n",
       "      <td>4376</td>\n",
       "      <td>8.3</td>\n",
       "      <td>8.205439</td>\n",
       "    </tr>\n",
       "    <tr>\n",
       "      <th>5525</th>\n",
       "      <td>千と千尋の神隠し</td>\n",
       "      <td>3968</td>\n",
       "      <td>8.3</td>\n",
       "      <td>8.196093</td>\n",
       "    </tr>\n",
       "    <tr>\n",
       "      <th>2248</th>\n",
       "      <td>La vita è bella</td>\n",
       "      <td>3643</td>\n",
       "      <td>8.3</td>\n",
       "      <td>8.187213</td>\n",
       "    </tr>\n",
       "  </tbody>\n",
       "</table>\n",
       "</div>"
      ],
      "text/plain": [
       "                             title  vote_count  vote_average     score\n",
       "321       The Shawshank Redemption        8358           8.5  8.445888\n",
       "855                  The Godfather        6024           8.5  8.425464\n",
       "10332  Dilwale Dulhania Le Jayenge         661           9.1  8.421646\n",
       "12499              The Dark Knight       12269           8.3  8.265490\n",
       "2879                    Fight Club        9678           8.3  8.256401\n",
       "300                   Pulp Fiction        8670           8.3  8.251424\n",
       "536               Schindler's List        4436           8.3  8.206674\n",
       "23675                     Whiplash        4376           8.3  8.205439\n",
       "5525                      千と千尋の神隠し        3968           8.3  8.196093\n",
       "2248               La vita è bella        3643           8.3  8.187213"
      ]
     },
     "execution_count": 12,
     "metadata": {},
     "output_type": "execute_result"
    }
   ],
   "source": [
    "#Sort movies based on score calculated above\n",
    "q_movies = q_movies.sort_values('score', ascending=False)\n",
    "\n",
    "#Print the top 15 movies\n",
    "q_movies[['title', 'vote_count', 'vote_average', 'score']].head(10)"
   ]
  },
  {
   "cell_type": "markdown",
   "metadata": {},
   "source": [
    "Under the Trending Now tab of these systems we find movies that are very popular and they can just be obtained by sorting the dataset by the popularity column."
   ]
  },
  {
   "cell_type": "code",
   "execution_count": 13,
   "metadata": {},
   "outputs": [
    {
     "data": {
      "text/plain": [
       "Text(0.5, 1.0, 'Popular Movies')"
      ]
     },
     "execution_count": 13,
     "metadata": {},
     "output_type": "execute_result"
    },
    {
     "data": {
      "image/png": "[encoded data removed]",
      "text/plain": [
       "<Figure size 1200x400 with 1 Axes>"
      ]
     },
     "metadata": {},
     "output_type": "display_data"
    }
   ],
   "source": [
    "pop= movies_df.sort_values('popularity', ascending=False)\n",
    "import matplotlib.pyplot as plt\n",
    "plt.figure(figsize=(12,4))\n",
    "\n",
    "plt.barh(pop['title'].head(6),pop['popularity'].head(6), align='center',\n",
    "        color='skyblue')\n",
    "plt.gca().invert_yaxis()\n",
    "plt.xlabel(\"Popularity\")\n",
    "plt.title(\"Popular Movies\")"
   ]
  },
  {
   "cell_type": "code",
   "execution_count": 34,
   "metadata": {},
   "outputs": [],
   "source": [
    "def load_trending_movies_from_csv(filename='recommender_system\\\\data\\\\database_data\\\\trending_movies.csv'):\n",
    "    \"\"\"\n",
    "    Loads the trending movies DataFrame from a CSV file.\n",
    "\n",
    "    Args:\n",
    "        filename (str): The name of the CSV file to load.\n",
    "\n",
    "    Returns:\n",
    "        pd.DataFrame: The DataFrame containing trending movies, or None if an error occurs.\n",
    "    \"\"\"\n",
    "    try:\n",
    "        trending_movies = pd.read_csv(filename)\n",
    "        return trending_movies\n",
    "    except FileNotFoundError:\n",
    "        print(f\"File not found: {filename}\")\n",
    "        return None\n",
    "    except Exception as e:\n",
    "        print(f\"Error loading trending movies from {filename}: {e}\")\n",
    "        return None\n",
    "    \n",
    "def save_trending_movies_to_csv(f_movie, filename='C:\\\\Users\\\\PC-Service\\\\Desktop\\\\projet_synthese\\\\CINEIA\\\\recommender_system\\\\data\\\\database_data\\\\trending_movies.csv'):\n",
    "    \"\"\"\n",
    "    Saves the trending movies DataFrame to a CSV file.\n",
    "\n",
    "    Args:\n",
    "        f_movie (pd.DataFrame): The DataFrame containing trending movies.\n",
    "        filename (str): The name of the CSV file to save.\n",
    "    \"\"\"\n",
    "    try:\n",
    "        f_movie.to_csv(filename, index=False)\n",
    "        print(f\"Trending movies saved to {filename}\")\n",
    "    except Exception as e:\n",
    "        print(f\"Error saving trending movies to {filename}: {e}\")    "
   ]
  },
  {
   "cell_type": "code",
   "execution_count": 35,
   "metadata": {},
   "outputs": [
    {
     "name": "stdout",
     "output_type": "stream",
     "text": [
      "Trending movies saved to C:\\Users\\PC-Service\\Desktop\\projet_synthese\\CINEIA\\recommender_system\\data\\database_data\\trending_movies.csv\n"
     ]
    }
   ],
   "source": [
    "save_trending_movies_to_csv(q_movies)\n"
   ]
  }
 ],
 "metadata": {
  "kernelspec": {
   "display_name": "projetsynthese_env",
   "language": "python",
   "name": "python3"
  },
  "language_info": {
   "codemirror_mode": {
    "name": "ipython",
    "version": 3
   },
   "file_extension": ".py",
   "mimetype": "text/x-python",
   "name": "python",
   "nbconvert_exporter": "python",
   "pygments_lexer": "ipython3",
   "version": "3.11.11"
  }
 },
 "nbformat": 4,
 "nbformat_minor": 2
}
