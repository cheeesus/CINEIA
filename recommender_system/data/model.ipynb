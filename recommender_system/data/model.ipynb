{
 "cells": [
  {
   "cell_type": "code",
   "execution_count": 4,
   "metadata": {},
   "outputs": [],
   "source": [
    "import pandas as pd\n",
    "from sklearn.feature_extraction.text import TfidfVectorizer\n",
    "from sklearn.metrics.pairwise import cosine_similarity"
   ]
  },
  {
   "cell_type": "code",
   "execution_count": 5,
   "metadata": {},
   "outputs": [],
   "source": [
    "import psycopg2\n",
    "from sqlalchemy import create_engine\n",
    "\n"
   ]
  },
  {
   "cell_type": "code",
   "execution_count": 6,
   "metadata": {},
   "outputs": [],
   "source": [
    "# Informations de connexion\n",
    "HOST = \"postgresql-rospars.alwaysdata.net\"\n",
    "USER = \"rospars_01\"\n",
    "PASSWORD = \"Projet1234\"\n",
    "DATABASE = \"rospars_yann\"\n",
    "PORT = 5432  # Port par défaut de PostgreSQL\n"
   ]
  },
  {
   "cell_type": "code",
   "execution_count": 7,
   "metadata": {},
   "outputs": [
    {
     "name": "stdout",
     "output_type": "stream",
     "text": [
      "      id                        title  \\\n",
      "0    862                    Toy Story   \n",
      "1   8844                      Jumanji   \n",
      "2  15602             Grumpier Old Men   \n",
      "3  31357            Waiting to Exhale   \n",
      "4  11862  Father of the Bride Part II   \n",
      "\n",
      "                                            overview  popularity  vote_average  \n",
      "0  Led by Woody, Andy's toys live happily in his ...   21.946943           7.7  \n",
      "1  When siblings Judy and Peter discover an encha...   17.015539           6.9  \n",
      "2  A family wedding reignites the ancient feud be...   11.712900           6.5  \n",
      "3  Cheated on, mistreated and stepped on, the wom...    3.859495           6.1  \n",
      "4  Just when George Banks has recovered from his ...    8.387519           5.7  \n"
     ]
    }
   ],
   "source": [
    "# Créer l'engine SQLAlchemy\n",
    "engine = create_engine(f\"postgresql://{USER}:{PASSWORD}@{HOST}:{PORT}/{DATABASE}\")\n",
    "# Récupérer les films depuis la base\n",
    "query = \"SELECT id, title, overview, popularity, vote_average FROM movies;\"\n",
    "movies_df = pd.read_sql(query, engine)\n",
    "\n",
    "# Vérifier les données récupérées\n",
    "print(movies_df.head())\n"
   ]
  },
  {
   "cell_type": "code",
   "execution_count": 8,
   "metadata": {},
   "outputs": [
    {
     "name": "stdout",
     "output_type": "stream",
     "text": [
      "id              0\n",
      "title           0\n",
      "overview        0\n",
      "popularity      0\n",
      "vote_average    0\n",
      "dtype: int64\n",
      "<class 'pandas.core.frame.DataFrame'>\n",
      "RangeIndex: 45351 entries, 0 to 45350\n",
      "Data columns (total 5 columns):\n",
      " #   Column        Non-Null Count  Dtype  \n",
      "---  ------        --------------  -----  \n",
      " 0   id            45351 non-null  int64  \n",
      " 1   title         45351 non-null  object \n",
      " 2   overview      45351 non-null  object \n",
      " 3   popularity    45351 non-null  float64\n",
      " 4   vote_average  45351 non-null  float64\n",
      "dtypes: float64(2), int64(1), object(2)\n",
      "memory usage: 1.7+ MB\n",
      "None\n"
     ]
    }
   ],
   "source": [
    "# Vérifier les valeurs manquantes\n",
    "print(movies_df.isnull().sum())\n",
    "\n",
    "# Supprimer les films sans description\n",
    "movies_df.dropna(subset=[\"overview\"], inplace=True)\n",
    "\n",
    "# Convertir `popularity` et `vote_average` en float (si nécessaire)\n",
    "movies_df[\"popularity\"] = movies_df[\"popularity\"].astype(float)\n",
    "movies_df[\"vote_average\"] = movies_df[\"vote_average\"].astype(float)\n",
    "\n",
    "# Vérifier les changements\n",
    "print(movies_df.info())"
   ]
  },
  {
   "cell_type": "markdown",
   "metadata": {},
   "source": [
    "Charger les genres et mots-clés"
   ]
  },
  {
   "cell_type": "code",
   "execution_count": 9,
   "metadata": {},
   "outputs": [],
   "source": [
    "engine.dispose()\n",
    "# Charger les genres\n",
    "query_genres = \"SELECT id, name FROM genres;\"\n",
    "genres_df = pd.read_sql(query_genres, engine)\n",
    "\n",
    "# Charger les mots-clés\n",
    "query_keywords = \"SELECT id, name FROM keywords;\"\n",
    "keywords_df = pd.read_sql(query_keywords, engine)\n"
   ]
  },
  {
   "cell_type": "code",
   "execution_count": 10,
   "metadata": {},
   "outputs": [
    {
     "name": "stdout",
     "output_type": "stream",
     "text": [
      "      id       name\n",
      "0     16  Animation\n",
      "1     35     Comedy\n",
      "2  10751     Family\n",
      "3     12  Adventure\n",
      "4     14    Fantasy\n",
      "     id        name\n",
      "0   931    jealousy\n",
      "1  4290         toy\n",
      "2  5202         boy\n",
      "3  6054  friendship\n",
      "4  9713     friends\n"
     ]
    }
   ],
   "source": [
    "print(genres_df.head())\n",
    "print(keywords_df.head())\n"
   ]
  },
  {
   "cell_type": "markdown",
   "metadata": {},
   "source": [
    " Charger les tables de correspondance"
   ]
  },
  {
   "cell_type": "code",
   "execution_count": 11,
   "metadata": {},
   "outputs": [
    {
     "name": "stdout",
     "output_type": "stream",
     "text": [
      "   movie_id  genre_id\n",
      "0       862        16\n",
      "1       862        35\n",
      "2       862     10751\n",
      "3      8844        12\n",
      "4      8844        14\n",
      "   movie_id  keyword_id\n",
      "0       862         931\n",
      "1       862        4290\n",
      "2       862        5202\n",
      "3       862        6054\n",
      "4       862        9713\n"
     ]
    }
   ],
   "source": [
    "# Charger la table movies_genre\n",
    "query_movies_genre = \"SELECT movie_id, genre_id FROM movie_genre;\"\n",
    "movies_genre_df = pd.read_sql(query_movies_genre, engine)\n",
    "\n",
    "# Charger la table movies_keyword\n",
    "query_movies_keyword = \"SELECT movie_id, keyword_id FROM movie_keyword;\"\n",
    "movies_keyword_df = pd.read_sql(query_movies_keyword, engine)\n",
    "\n",
    "# Vérifier les données\n",
    "print(movies_genre_df.head())\n",
    "print(movies_keyword_df.head())"
   ]
  },
  {
   "cell_type": "markdown",
   "metadata": {},
   "source": [
    "Associer genres et mots-clés aux films"
   ]
  },
  {
   "cell_type": "code",
   "execution_count": 12,
   "metadata": {},
   "outputs": [
    {
     "ename": "KeyError",
     "evalue": "'Column not found: genre'",
     "output_type": "error",
     "traceback": [
      "\u001b[1;31m---------------------------------------------------------------------------\u001b[0m",
      "\u001b[1;31mKeyError\u001b[0m                                  Traceback (most recent call last)",
      "Cell \u001b[1;32mIn[12], line 3\u001b[0m\n\u001b[0;32m      1\u001b[0m \u001b[38;5;66;03m# Fusionner movies_genre avec genre pour récupérer le nom du genre\u001b[39;00m\n\u001b[0;32m      2\u001b[0m movies_genre_df \u001b[38;5;241m=\u001b[39m movies_genre_df\u001b[38;5;241m.\u001b[39mmerge(genres_df, left_on\u001b[38;5;241m=\u001b[39m\u001b[38;5;124m\"\u001b[39m\u001b[38;5;124mgenre_id\u001b[39m\u001b[38;5;124m\"\u001b[39m, right_on\u001b[38;5;241m=\u001b[39m\u001b[38;5;124m\"\u001b[39m\u001b[38;5;124mid\u001b[39m\u001b[38;5;124m\"\u001b[39m, how\u001b[38;5;241m=\u001b[39m\u001b[38;5;124m\"\u001b[39m\u001b[38;5;124mleft\u001b[39m\u001b[38;5;124m\"\u001b[39m)\n\u001b[1;32m----> 3\u001b[0m movies_genre_df \u001b[38;5;241m=\u001b[39m \u001b[43mmovies_genre_df\u001b[49m\u001b[38;5;241;43m.\u001b[39;49m\u001b[43mgroupby\u001b[49m\u001b[43m(\u001b[49m\u001b[38;5;124;43m\"\u001b[39;49m\u001b[38;5;124;43mmovie_id\u001b[39;49m\u001b[38;5;124;43m\"\u001b[39;49m\u001b[43m)\u001b[49m\u001b[43m[\u001b[49m\u001b[38;5;124;43m\"\u001b[39;49m\u001b[38;5;124;43mgenre\u001b[39;49m\u001b[38;5;124;43m\"\u001b[39;49m\u001b[43m]\u001b[49m\u001b[38;5;241m.\u001b[39mapply(\u001b[38;5;28;01mlambda\u001b[39;00m x: \u001b[38;5;124m\"\u001b[39m\u001b[38;5;124m \u001b[39m\u001b[38;5;124m\"\u001b[39m\u001b[38;5;241m.\u001b[39mjoin(x))\u001b[38;5;241m.\u001b[39mreset_index()\n\u001b[0;32m      5\u001b[0m \u001b[38;5;66;03m# Fusionner movies_keyword avec keywords pour récupérer le nom du mot-clé\u001b[39;00m\n\u001b[0;32m      6\u001b[0m movies_keyword_df \u001b[38;5;241m=\u001b[39m movies_keyword_df\u001b[38;5;241m.\u001b[39mmerge(keywords_df, left_on\u001b[38;5;241m=\u001b[39m\u001b[38;5;124m\"\u001b[39m\u001b[38;5;124mkeyword_id\u001b[39m\u001b[38;5;124m\"\u001b[39m, right_on\u001b[38;5;241m=\u001b[39m\u001b[38;5;124m\"\u001b[39m\u001b[38;5;124mid\u001b[39m\u001b[38;5;124m\"\u001b[39m, how\u001b[38;5;241m=\u001b[39m\u001b[38;5;124m\"\u001b[39m\u001b[38;5;124mleft\u001b[39m\u001b[38;5;124m\"\u001b[39m)\n",
      "File \u001b[1;32m~\\AppData\\Roaming\\Python\\Python311\\site-packages\\pandas\\core\\groupby\\generic.py:1951\u001b[0m, in \u001b[0;36mDataFrameGroupBy.__getitem__\u001b[1;34m(self, key)\u001b[0m\n\u001b[0;32m   1944\u001b[0m \u001b[38;5;28;01mif\u001b[39;00m \u001b[38;5;28misinstance\u001b[39m(key, \u001b[38;5;28mtuple\u001b[39m) \u001b[38;5;129;01mand\u001b[39;00m \u001b[38;5;28mlen\u001b[39m(key) \u001b[38;5;241m>\u001b[39m \u001b[38;5;241m1\u001b[39m:\n\u001b[0;32m   1945\u001b[0m     \u001b[38;5;66;03m# if len == 1, then it becomes a SeriesGroupBy and this is actually\u001b[39;00m\n\u001b[0;32m   1946\u001b[0m     \u001b[38;5;66;03m# valid syntax, so don't raise\u001b[39;00m\n\u001b[0;32m   1947\u001b[0m     \u001b[38;5;28;01mraise\u001b[39;00m \u001b[38;5;167;01mValueError\u001b[39;00m(\n\u001b[0;32m   1948\u001b[0m         \u001b[38;5;124m\"\u001b[39m\u001b[38;5;124mCannot subset columns with a tuple with more than one element. \u001b[39m\u001b[38;5;124m\"\u001b[39m\n\u001b[0;32m   1949\u001b[0m         \u001b[38;5;124m\"\u001b[39m\u001b[38;5;124mUse a list instead.\u001b[39m\u001b[38;5;124m\"\u001b[39m\n\u001b[0;32m   1950\u001b[0m     )\n\u001b[1;32m-> 1951\u001b[0m \u001b[38;5;28;01mreturn\u001b[39;00m \u001b[38;5;28;43msuper\u001b[39;49m\u001b[43m(\u001b[49m\u001b[43m)\u001b[49m\u001b[38;5;241;43m.\u001b[39;49m\u001b[38;5;21;43m__getitem__\u001b[39;49m\u001b[43m(\u001b[49m\u001b[43mkey\u001b[49m\u001b[43m)\u001b[49m\n",
      "File \u001b[1;32m~\\AppData\\Roaming\\Python\\Python311\\site-packages\\pandas\\core\\base.py:244\u001b[0m, in \u001b[0;36mSelectionMixin.__getitem__\u001b[1;34m(self, key)\u001b[0m\n\u001b[0;32m    242\u001b[0m \u001b[38;5;28;01melse\u001b[39;00m:\n\u001b[0;32m    243\u001b[0m     \u001b[38;5;28;01mif\u001b[39;00m key \u001b[38;5;129;01mnot\u001b[39;00m \u001b[38;5;129;01min\u001b[39;00m \u001b[38;5;28mself\u001b[39m\u001b[38;5;241m.\u001b[39mobj:\n\u001b[1;32m--> 244\u001b[0m         \u001b[38;5;28;01mraise\u001b[39;00m \u001b[38;5;167;01mKeyError\u001b[39;00m(\u001b[38;5;124mf\u001b[39m\u001b[38;5;124m\"\u001b[39m\u001b[38;5;124mColumn not found: \u001b[39m\u001b[38;5;132;01m{\u001b[39;00mkey\u001b[38;5;132;01m}\u001b[39;00m\u001b[38;5;124m\"\u001b[39m)\n\u001b[0;32m    245\u001b[0m     ndim \u001b[38;5;241m=\u001b[39m \u001b[38;5;28mself\u001b[39m\u001b[38;5;241m.\u001b[39mobj[key]\u001b[38;5;241m.\u001b[39mndim\n\u001b[0;32m    246\u001b[0m     \u001b[38;5;28;01mreturn\u001b[39;00m \u001b[38;5;28mself\u001b[39m\u001b[38;5;241m.\u001b[39m_gotitem(key, ndim\u001b[38;5;241m=\u001b[39mndim)\n",
      "\u001b[1;31mKeyError\u001b[0m: 'Column not found: genre'"
     ]
    }
   ],
   "source": [
    "# Fusionner movies_genre avec genre pour récupérer le nom du genre\n",
    "movies_genre_df = movies_genre_df.merge(genres_df, left_on=\"genre_id\", right_on=\"id\", how=\"left\")\n",
    "movies_genre_df = movies_genre_df.groupby(\"movie_id\")[\"genre\"].apply(lambda x: \" \".join(x)).reset_index()\n",
    "\n",
    "# Fusionner movies_keyword avec keywords pour récupérer le nom du mot-clé\n",
    "movies_keyword_df = movies_keyword_df.merge(keywords_df, left_on=\"keyword_id\", right_on=\"id\", how=\"left\")\n",
    "movies_keyword_df = movies_keyword_df.groupby(\"movie_id\")[\"keyword\"].apply(lambda x: \" \".join(x)).reset_index()"
   ]
  },
  {
   "cell_type": "code",
   "execution_count": null,
   "metadata": {},
   "outputs": [
    {
     "name": "stdout",
     "output_type": "stream",
     "text": [
      "   movie_id  keyword_id\n",
      "0       862         931\n",
      "1       862        4290\n",
      "2       862        5202\n",
      "3       862        6054\n",
      "4       862        9713\n",
      "   movie_id  genre_id\n",
      "0       862        16\n",
      "1       862        35\n",
      "2       862     10751\n",
      "3      8844        12\n",
      "4      8844        14\n"
     ]
    }
   ],
   "source": [
    "print(movies_keyword_df.head())\n",
    "print(movies_genre_df.head())\n",
    "\n"
   ]
  },
  {
   "cell_type": "markdown",
   "metadata": {},
   "source": [
    "**Créer un DataFrame `movies_metadata_df`**\n",
    "\n",
    "dédié aux relations movie_id - genre - keyword"
   ]
  },
  {
   "cell_type": "code",
   "execution_count": null,
   "metadata": {},
   "outputs": [
    {
     "name": "stdout",
     "output_type": "stream",
     "text": [
      "   movie_id  genre_id keyword_id\n",
      "0         2        18      240.0\n",
      "1         2        18      378.0\n",
      "2         2        18      730.0\n",
      "3         2        18     1563.0\n",
      "4         2        18     1787.0\n"
     ]
    },
    {
     "name": "stderr",
     "output_type": "stream",
     "text": [
      "C:\\Users\\PC-Service\\AppData\\Local\\Temp\\ipykernel_27068\\1745719976.py:5: FutureWarning: Setting an item of incompatible dtype is deprecated and will raise an error in a future version of pandas. Value '' has dtype incompatible with float64, please explicitly cast to a compatible dtype first.\n",
      "  movies_metadata_df.fillna(\"\", inplace=True)\n"
     ]
    }
   ],
   "source": [
    "# Fusionner les genres et keywords sur movie_id\n",
    "movies_metadata_df = movies_genre_df.merge(movies_keyword_df, on=\"movie_id\", how=\"outer\")\n",
    "\n",
    "# Remplacer les NaN par des chaînes vides\n",
    "movies_metadata_df.fillna(\"\", inplace=True)\n",
    "\n",
    "# Afficher un aperçu\n",
    "print(movies_metadata_df.head())\n"
   ]
  }
 ],
 "metadata": {
  "kernelspec": {
   "display_name": "Python 3",
   "language": "python",
   "name": "python3"
  },
  "language_info": {
   "codemirror_mode": {
    "name": "ipython",
    "version": 3
   },
   "file_extension": ".py",
   "mimetype": "text/x-python",
   "name": "python",
   "nbconvert_exporter": "python",
   "pygments_lexer": "ipython3",
   "version": "3.11.1"
  }
 },
 "nbformat": 4,
 "nbformat_minor": 2
}
